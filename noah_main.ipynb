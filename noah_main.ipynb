{
 "cells": [
  {
   "cell_type": "code",
   "execution_count": null,
   "metadata": {},
   "outputs": [],
   "source": [
    "import pandas as pd\n",
    "import json\n",
    "import numpy as np\n",
    "import matplotlib.pyplot as plt\n"
   ]
  },
  {
   "cell_type": "code",
   "execution_count": 19,
   "metadata": {},
   "outputs": [],
   "source": [
    "with open('data/deadpool.json', 'r') as file:\n",
    "    pose_data = json.load(file)"
   ]
  },
  {
   "cell_type": "code",
   "execution_count": 20,
   "metadata": {},
   "outputs": [],
   "source": [
    "# Find weights\n",
    "\n",
    "first_frame = pose_data[0][\"frame\"]\n",
    "\n",
    "def find_normalized_relative_vec(from_landmark, to_landmark, frame):\n",
    "    frame_obj = pose_data[frame - first_frame]\n",
    "    fromx = frame_obj[\"landmarks\"][from_landmark][0]\n",
    "    fromy = frame_obj[\"landmarks\"][from_landmark][1]\n",
    "    fromz = frame_obj[\"landmarks\"][from_landmark][2]\n",
    "    tox = frame_obj[\"landmarks\"][to_landmark][0]\n",
    "    toy = frame_obj[\"landmarks\"][to_landmark][1]\n",
    "    toz = frame_obj[\"landmarks\"][to_landmark][2]\n",
    "    relative_vec = [tox - fromx, toy-fromy, toz-fromz]\n",
    "    relative_vec_norm = np.sqrt((relative_vec[0])**2 + (relative_vec[1])**2 + (relative_vec[2])**2)\n",
    "    return [relative_vec[0] / relative_vec_norm, relative_vec[1] / relative_vec_norm,relative_vec[2] / relative_vec_norm]\n",
    "\n",
    "# format is from: to\n",
    "# some keys are repeated so i should probably fix that\n",
    "REL_VEC_MAP = {\n",
    "    \"LEFT_WRIST\": \"LEFT_ELBOW\",\n",
    "    \"LEFT_ELBOW\": \"LEFT_SHOULDER\",\n",
    "    \"LEFT_SHOULDER\": \"RIGHT_SHOULDER\",\n",
    "    \"RIGHT_WRIST\": \"RIGHT_ELBOW\",\n",
    "    \"RIGHT_ELBOW\": \"RIGHT_SHOULDER\",\n",
    "    \"LEFT_SHOULDER\": \"LEFT_HIP\",\n",
    "    \"RIGHT_SHOULDER\": \"RIGHT_HIP\",\n",
    "    \"LEFT_HIP\": \"RIGHT_HIP\",\n",
    "    \"LEFT_HIP\": \"LEFT_KNEE\",\n",
    "    \"LEFT_KNEE\": \"LEFT_ANKLE\",\n",
    "    \"RIGHT_HIP\": \"RIGHT_KNEE\",\n",
    "    \"RIGHT_KNEE\": \"RIGHT_ANKLE\"\n",
    "}\n",
    "\n",
    "REL_VEC_TUPS = (\n",
    "    (\"LEFT_WRIST\", \"LEFT_ELBOW\"),\n",
    "    (\"LEFT_ELBOW\", \"LEFT_SHOULDER\"),\n",
    "    (\"LEFT_SHOULDER\", \"RIGHT_SHOULDER\"),\n",
    "    (\"RIGHT_WRIST\", \"RIGHT_ELBOW\"),\n",
    "    (\"RIGHT_ELBOW\", \"RIGHT_SHOULDER\"),\n",
    "    (\"LEFT_SHOULDER\", \"LEFT_HIP\"),\n",
    "    (\"RIGHT_SHOULDER\", \"RIGHT_HIP\"),\n",
    "    (\"LEFT_HIP\", \"RIGHT_HIP\"),\n",
    "    (\"LEFT_HIP\", \"LEFT_KNEE\"),\n",
    "    (\"LEFT_KNEE\", \"LEFT_ANKLE\"),\n",
    "    (\"RIGHT_HIP\", \"RIGHT_KNEE\"),\n",
    "    (\"RIGHT_KNEE\", \"RIGHT_ANKLE\")\n",
    ")\n",
    "\n",
    "all_parts = ['LEFT_ANKLE', 'LEFT_ELBOW', 'LEFT_HIP', 'LEFT_KNEE', 'LEFT_SHOULDER', 'LEFT_WRIST', 'RIGHT_ANKLE', 'RIGHT_ELBOW', 'RIGHT_HIP', 'RIGHT_KNEE', 'RIGHT_SHOULDER', 'RIGHT_WRIST']\n",
    "\n",
    "\n"
   ]
  },
  {
   "cell_type": "code",
   "execution_count": 21,
   "metadata": {},
   "outputs": [],
   "source": [
    "def find_normalized_relative_vec_from_obj(from_landmark, to_landmark, frame_obj):\n",
    "    fromx = frame_obj[\"landmarks\"][from_landmark][0]\n",
    "    fromy = frame_obj[\"landmarks\"][from_landmark][1]\n",
    "    fromz = frame_obj[\"landmarks\"][from_landmark][2]\n",
    "    tox = frame_obj[\"landmarks\"][to_landmark][0]\n",
    "    toy = frame_obj[\"landmarks\"][to_landmark][1]\n",
    "    toz = frame_obj[\"landmarks\"][to_landmark][2]\n",
    "    relative_vec = [tox - fromx, toy-fromy, toz-fromz]\n",
    "    relative_vec_norm = np.sqrt((relative_vec[0])**2 + (relative_vec[1])**2 + (relative_vec[2])**2)\n",
    "    return [relative_vec[0] / relative_vec_norm, relative_vec[1] / relative_vec_norm,relative_vec[2] / relative_vec_norm]\n",
    "\n",
    "def find_sim(template_frame, user_frame, weights):\n",
    "    sims = [] #form at is (from_joint, to_joint, difference)\n",
    "    pure_sims_array = []\n",
    "    for rel_vec in REL_VEC_TUPS:\n",
    "        user_vec = find_normalized_relative_vec_from_obj(rel_vec[0], rel_vec[1], template_frame)\n",
    "        temp_vec = find_normalized_relative_vec_from_obj(rel_vec[0], rel_vec[1], user_frame)\n",
    "        diff_dot = np.dot(np.array(user_vec), np.array(temp_vec))\n",
    "        sims.append((rel_vec[0], rel_vec[1], diff_dot))\n",
    "        pure_sims_array.append(diff_dot)\n",
    "    \n",
    "    dot_product = np.dot(pure_sims_array, weights)\n",
    "    return dot_product, sims\n",
    "\n",
    "def find_weights(pose_data_subset):\n",
    "    weights = []\n",
    "    for rel_vec in REL_VEC_TUPS:\n",
    "        diffs = []\n",
    "\n",
    "        from_joint = rel_vec[0]\n",
    "        to_joint = rel_vec[1]\n",
    "\n",
    "        for i in range(1, len(pose_data_subset)):\n",
    "            first_normed_rel_vec = find_normalized_relative_vec(from_joint, to_joint, i-1)\n",
    "            second_normed_rel_vec = find_normalized_relative_vec(from_joint, to_joint, i)\n",
    "            diff_norm = np.linalg.norm(np.array(second_normed_rel_vec) - np.array(first_normed_rel_vec))\n",
    "            diffs.append(diff_norm)\n",
    "\n",
    "        weights.append(sum(diffs))\n",
    "    return weights\n",
    "\n",
    "\n",
    "weights = find_weights(pose_data)\n",
    "    "
   ]
  },
  {
   "cell_type": "code",
   "execution_count": 22,
   "metadata": {},
   "outputs": [
    {
     "data": {
      "text/plain": [
       "'\\ndef calculate_vectors(expected, actual):\\n\\n    expected_vectors = {}\\n    actual_vectors = {}\\n\\n    for key in REL_VEC_TUPS:\\n        expected_vector = (np.array(expected[key[0]]) - np.array(expected[key[1]]))\\n        expected_vectors[key] = expected_vector\\n        actual_vector = (np.array(actual[key[0]]) - np.array(actual[key[1]]))\\n        actual_vectors[key] = actual_vector\\n\\n    return (expected_vectors, actual_vectors)\\n'"
      ]
     },
     "execution_count": 22,
     "metadata": {},
     "output_type": "execute_result"
    }
   ],
   "source": [
    "\"\"\"\n",
    "[{'frame': 0,\n",
    "  'timestamp': 0.0,\n",
    "  'landmarks': {'LEFT_SHOULDER': [0.19183723628520966,\n",
    "    0.4527665972709656,\n",
    "    0.11228542774915695],\n",
    "   'RIGHT_SHOULDER': [-0.11523714661598206,\n",
    "    0.5224035382270813,\n",
    "    0.0618785098195076],\n",
    "   'LEFT_ELBOW': [0.28123152256011963,\n",
    "    0.28129351139068604,\n",
    "    0.13979975879192352],\n",
    "   'RIGHT_ELBOW': [-0.19556871056556702,\n",
    "    0.2384415864944458,\n",
    "\"\"\"\n",
    "\n",
    "# expected and actual are in the 'landmarks' dictionary format above\n",
    "\n",
    "\"\"\"\n",
    "def calculate_vectors(expected, actual):\n",
    "\n",
    "    expected_vectors = {}\n",
    "    actual_vectors = {}\n",
    "\n",
    "    for key in REL_VEC_TUPS:\n",
    "        expected_vector = (np.array(expected[key[0]]) - np.array(expected[key[1]]))\n",
    "        expected_vectors[key] = expected_vector\n",
    "        actual_vector = (np.array(actual[key[0]]) - np.array(actual[key[1]]))\n",
    "        actual_vectors[key] = actual_vector\n",
    "\n",
    "    return (expected_vectors, actual_vectors)\n",
    "\"\"\"\n",
    "\n",
    "#calculate_vectors(pose_data[0]['landmarks'], pose_data[100]['landmarks'])\n",
    "    \n"
   ]
  },
  {
   "cell_type": "code",
   "execution_count": 23,
   "metadata": {},
   "outputs": [],
   "source": [
    "def calculate_vectors(expected, actual):\n",
    "\n",
    "    exp_and_actual_vec = {}\n",
    "\n",
    "    for key in REL_VEC_TUPS:\n",
    "        expected_vector = (np.array(expected[key[0]]) - np.array(expected[key[1]]))\n",
    "        actual_vector = (np.array(actual[key[0]]) - np.array(actual[key[1]]))\n",
    "        exp_and_actual_vec[key] = [(expected_vector, actual_vector)]\n",
    "\n",
    "    return exp_and_actual_vec\n",
    "\n",
    "#calculate_vectors(pose_data[0]['landmarks'], pose_data[100]['landmarks'])"
   ]
  },
  {
   "cell_type": "code",
   "execution_count": 24,
   "metadata": {},
   "outputs": [],
   "source": [
    "# expected_frames: list of dictionaries of lists\n",
    "\n",
    "def calculate_norm(expected_frames, actual_frames, weights):\n",
    "\n",
    "    total = np.array([])\n",
    "\n",
    "    for i in range(len(expected_frames)):\n",
    "        vectors = calculate_vectors(expected_frames[i], actual_frames[i])\n",
    "\n",
    "        list_of_diffs = np.array([])\n",
    "\n",
    "        for num, key in enumerate(REL_VEC_TUPS):\n",
    "            vector1 = vectors[key][0][0]\n",
    "            vector2 = vectors[key][0][1]\n",
    "            cosine_similarity = np.dot(vector1, vector2) / (np.linalg.norm(vector1) * np.linalg.norm(vector2))\n",
    "            list_of_diffs = np.append(list_of_diffs, (cosine_similarity + 1)/2 * weights[num])\n",
    "\n",
    "        avg = list_of_diffs.sum() / len(list_of_diffs)\n",
    "        total = np.append(total, avg)\n",
    "\n",
    "    return sum(total) / len(total)"
   ]
  },
  {
   "cell_type": "code",
   "execution_count": 25,
   "metadata": {},
   "outputs": [],
   "source": [
    "test = [{'landmarks': {x: list(np.random.uniform(-1, 1, size=(1, 3))) for x in all_parts}} for i in range(200)]"
   ]
  },
  {
   "cell_type": "code",
   "execution_count": 32,
   "metadata": {},
   "outputs": [
    {
     "data": {
      "text/plain": [
       "[<matplotlib.lines.Line2D at 0x15ee32840>]"
      ]
     },
     "execution_count": 32,
     "metadata": {},
     "output_type": "execute_result"
    },
    {
     "data": {
      "image/png": "[encoded data removed]",
      "text/plain": [
       "<Figure size 640x480 with 1 Axes>"
      ]
     },
     "metadata": {},
     "output_type": "display_data"
    }
   ],
   "source": [
    "\"\"\"export type PoseType = {\n",
    "  frame: number;\n",
    "  timestamp: number;\n",
    "  landmarks: Record<string, number[]>;\n",
    "};\"\"\"\n",
    "\n",
    "# Expected Movements: PoseTypeObject List of length fpb\n",
    "# Actual Movements: PoseTypeObject List of length fbp * 4\n",
    "# Output: dictionary with list of lists of lists\n",
    "\n",
    "def softmax(x):\n",
    "    e_x = np.exp(x - np.max(x))  # Shift values for numerical stability\n",
    "    return e_x / e_x.sum(axis=0, keepdims=True)\n",
    "\n",
    "def calculate_grade_for_groups(expected_movements, actual_movements):\n",
    "    \n",
    "    weights = [softmax(x) for x in find_weights(expected_movements)]\n",
    "    grade_per_timestamp_group = {}\n",
    "    needed_expected_movements = [data['landmarks'] for data in expected_movements]\n",
    "\n",
    "    for i in range(len(expected_movements), len(actual_movements)):\n",
    "        rang = (i-len(expected_movements), i)\n",
    "        needed_actual_movements = [data['landmarks'] for data in actual_movements[rang[0]:rang[1]]]\n",
    "        grade = calculate_norm(needed_expected_movements, needed_actual_movements, weights)\n",
    "        grade_per_timestamp_group[rang] = grade\n",
    "\n",
    "    return grade_per_timestamp_group\n",
    "\n",
    "data = calculate_grade_for_groups(pose_data[0:12], pose_data[0:48]).values()\n",
    "x = np.arange(1, len(data) + 1)\n",
    "\n",
    "plt.plot(x, data, marker='o', linestyle='-', color='b', label='Data')\n"
   ]
  },
  {
   "cell_type": "code",
   "execution_count": 36,
   "metadata": {},
   "outputs": [],
   "source": [
    "def calculate_highest_grade(expected_movements, actual_movements):\n",
    "    return max(list(calculate_grade_for_groups(expected_movements, actual_movements).values()))\n",
    "\n",
    "#calculate_highest_grade(pose_data[0:12], pose_data[0:48])"
   ]
  },
  {
   "cell_type": "code",
   "execution_count": null,
   "metadata": {},
   "outputs": [],
   "source": [
    "def calculate_highest_vectors(expected_movements, actual_movements):\n",
    "\n",
    "    best_range_with_val = max(calculate_grade_for_groups(expected_movements, actual_movements).items(),key = lambda x: x[1])\n",
    "    best_range = best_range_with_val[0]\n",
    "    desired_actual = actual_movements[best_range[0]:best_range[1]]\n",
    "    curr_dict = calculate_vectors(expected_movements[0]['landmarks'], desired_actual[0]['landmarks'])\n",
    "    for i in range(1,len(expected_movements)):\n",
    "        dct = calculate_vectors(expected_movements[i]['landmarks'], desired_actual[i]['landmarks'])\n",
    "        for key, value in dct.items():\n",
    "            curr_dict[key].append(value[0])\n",
    "    return curr_dict\n",
    "\n",
    "output = calculate_highest_vectors(pose_data[0:12], pose_data[12:60])\n"
   ]
  },
  {
   "cell_type": "code",
   "execution_count": 54,
   "metadata": {},
   "outputs": [],
   "source": [
    "# Convert numpy arrays to regular lists\n",
    "for key, value in output.items():\n",
    "    for i, (arr1, arr2) in enumerate(value):\n",
    "        output[key][i] = (list(arr1), list(arr2))\n",
    "\n",
    "#output\n"
   ]
  }
 ],
 "metadata": {
  "kernelspec": {
   "display_name": "dsc80",
   "language": "python",
   "name": "python3"
  },
  "language_info": {
   "codemirror_mode": {
    "name": "ipython",
    "version": 3
   },
   "file_extension": ".py",
   "mimetype": "text/x-python",
   "name": "python",
   "nbconvert_exporter": "python",
   "pygments_lexer": "ipython3",
   "version": "3.12.6"
  }
 },
 "nbformat": 4,
 "nbformat_minor": 2
}
